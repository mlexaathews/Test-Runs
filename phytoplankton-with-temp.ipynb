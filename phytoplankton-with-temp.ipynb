{
 "cells": [
  {
   "cell_type": "code",
   "execution_count": null,
   "metadata": {},
   "outputs": [],
   "source": [
    "## Alrighty so we're going to be binning phytoplankton with temperature and seeing how that works out\n",
    "## This is going to be plotted using a histogram and not a color map like before\n",
    "## REMEMBER: just like Steve said, it takes some time to get used to so don't feel stressed out if you don't get it the first time!\n",
    "## Ask the lads Graeme or Steve if you need some advice/help! \n"
   ]
  },
  {
   "cell_type": "code",
   "execution_count": 1,
   "metadata": {},
   "outputs": [],
   "source": [
    "# So first thing's first, let's import the proper packages\n",
    "\n",
    "import xarray as xr\n",
    "import numpy as np\n",
    "from matplotlib import pyplot as plt \n",
    "\n"
   ]
  },
  {
   "cell_type": "code",
   "execution_count": 2,
   "metadata": {},
   "outputs": [
    {
     "name": "stderr",
     "output_type": "stream",
     "text": [
      "/nbhome/Alexandra.Matthews/miniconda/envs/basic/lib/python3.7/site-packages/xarray/coding/times.py:419: SerializationWarning: Unable to decode time axis into full numpy.datetime64 objects, continuing using cftime.datetime objects instead, reason: dates out of range\n",
      "  self.use_cftime)\n"
     ]
    }
   ],
   "source": [
    "## And let's get those directories established! \n",
    "# Let's start with the directories for temperature \n",
    "\n",
    "rootdir = '/archive/oar.gfdl.cmip6/ESM4/DECK/ESM4_piControl_D/gfdl.ncrc4-intel16-prod-openmp/pp/'\n",
    "datadir_temperature = 'ocean_monthly_z/ts/monthly/5yr/'\n",
    "filename_temperature = 'ocean_monthly_z.071101-071512.thetao.nc'\n",
    "\n",
    "# Now let's establish the directories for phytoplankton. The rootdir (root directory) will be the same. \n",
    "\n",
    "datadir_phytoplankton = 'ocean_cobalt_omip_tracers_month_z/ts/monthly/5yr/'\n",
    "filename_phytoplankton = 'ocean_cobalt_omip_tracers_month_z.071101-071512.phyc.nc'\n",
    "\n",
    "\n",
    "temperature = xr.open_dataset(rootdir+datadir_temperature+filename_temperature)\n",
    "phytoplankton = xr.open_dataset(rootdir+datadir_phytoplankton+filename_phytoplankton)\n"
   ]
  },
  {
   "cell_type": "code",
   "execution_count": 3,
   "metadata": {},
   "outputs": [
    {
     "name": "stdout",
     "output_type": "stream",
     "text": [
      "<xarray.DataArray 'thetao' (time: 60, z_l: 35, yh: 576, xh: 720)>\n",
      "[870912000 values with dtype=float32]\n",
      "Coordinates:\n",
      "  * time     (time) object 0711-01-16 12:00:00 ... 0715-12-16 12:00:00\n",
      "  * xh       (xh) float64 -299.8 -299.2 -298.8 -298.2 ... 58.75 59.25 59.75\n",
      "  * yh       (yh) float64 -77.91 -77.72 -77.54 -77.36 ... 89.47 89.68 89.89\n",
      "  * z_l      (z_l) float64 2.5 10.0 20.0 32.5 ... 5e+03 5.5e+03 6e+03 6.5e+03\n",
      "Attributes:\n",
      "    long_name:      Sea Water Potential Temperature\n",
      "    units:          degC\n",
      "    cell_methods:   area:mean z_l:mean yh:mean xh:mean time: mean\n",
      "    cell_measures:  volume: volcello area: areacello\n",
      "    time_avg_info:  average_T1,average_T2,average_DT\n",
      "    standard_name:  sea_water_potential_temperature\n"
     ]
    }
   ],
   "source": [
    "print(temperature.thetao)\n",
    "\n",
    "# We have our data array for temperature here"
   ]
  },
  {
   "cell_type": "code",
   "execution_count": 4,
   "metadata": {},
   "outputs": [
    {
     "name": "stdout",
     "output_type": "stream",
     "text": [
      "<xarray.DataArray 'phyc' (time: 60, z_l: 35, yh: 576, xh: 720)>\n",
      "[870912000 values with dtype=float32]\n",
      "Coordinates:\n",
      "  * time     (time) object 0711-01-16 12:00:00 ... 0715-12-16 12:00:00\n",
      "  * xh       (xh) float64 -299.8 -299.2 -298.8 -298.2 ... 58.75 59.25 59.75\n",
      "  * yh       (yh) float64 -77.91 -77.72 -77.54 -77.36 ... 89.47 89.68 89.89\n",
      "  * z_l      (z_l) float64 2.5 10.0 20.0 32.5 ... 5e+03 5.5e+03 6e+03 6.5e+03\n",
      "Attributes:\n",
      "    long_name:      Phytoplankton Carbon Concentration\n",
      "    units:          mol m-3\n",
      "    cell_methods:   area:mean z_l:mean yh:mean xh:mean time: mean\n",
      "    cell_measures:  volume: volcello area: areacello\n",
      "    time_avg_info:  average_T1,average_T2,average_DT\n",
      "    standard_name:  mole_concentration_of_phytoplankton_expressed_as_carbon_i...\n"
     ]
    }
   ],
   "source": [
    "print(phytoplankton.phyc)\n",
    "\n",
    "# We also have the data array for phytoplankton "
   ]
  },
  {
   "cell_type": "code",
   "execution_count": 5,
   "metadata": {},
   "outputs": [
    {
     "name": "stderr",
     "output_type": "stream",
     "text": [
      "/nbhome/Alexandra.Matthews/miniconda/envs/basic/lib/python3.7/site-packages/numpy/core/numeric.py:538: SerializationWarning: Unable to decode time axis into full numpy.datetime64 objects, continuing using cftime.datetime objects instead, reason: dates out of range\n",
      "  return array(a, dtype, copy=False, order=order)\n",
      "/nbhome/Alexandra.Matthews/miniconda/envs/basic/lib/python3.7/site-packages/numpy/core/numeric.py:538: SerializationWarning: Unable to decode time axis into full numpy.datetime64 objects, continuing using cftime.datetime objects instead, reason: dates out of range\n",
      "  return array(a, dtype, copy=False, order=order)\n"
     ]
    }
   ],
   "source": [
    "# Alright, let's do some binning! \n",
    "\n",
    "# First let's merge our phytoplankton and temperature dataarays\n",
    "ds = xr.merge([temperature, phytoplankton])\n",
    "\n",
    "# Set temperature as a 'coordinate' in the new dataset\n",
    "ds = ds.set_coords('thetao')\n",
    "\n",
    "# Use the groupby_bins functionality of xarray to group the phytoplankton measurements into temperature bins \n",
    "theta_bins = np.arange(-2,30,1) # This specifies the range of the bins! It's totally up to how you to arrange your graph. \n",
    "phyto_in_theta = ds.phyc.isel(time=5).groupby_bins('thetao',theta_bins)"
   ]
  },
  {
   "cell_type": "code",
   "execution_count": 6,
   "metadata": {},
   "outputs": [
    {
     "data": {
      "text/plain": [
       "<xarray.DataArray 'phyc' (thetao_bins: 31)>\n",
       "array([473074, 301840, 773846, 746644, 988101, 587632, 410546, 322267, 209297,\n",
       "       183924, 179141, 169086, 148724, 140976, 126555, 125687, 110397,  93960,\n",
       "        78576,  68609,  61491,  63245,  62657,  62143,  57121,  54572,  56465,\n",
       "        61548,  68392,  69183,  71260])\n",
       "Coordinates:\n",
       "  * thetao_bins  (thetao_bins) object (-2, -1] (-1, 0] ... (27, 28] (28, 29]\n",
       "    time         object 0711-06-16 00:00:00"
      ]
     },
     "execution_count": 6,
     "metadata": {},
     "output_type": "execute_result"
    }
   ],
   "source": [
    "phyto_in_theta.count(xr.ALL_DIMS)"
   ]
  },
  {
   "cell_type": "code",
   "execution_count": 7,
   "metadata": {},
   "outputs": [
    {
     "data": {
      "text/plain": [
       "[<matplotlib.lines.Line2D at 0x2b32d7aca160>]"
      ]
     },
     "execution_count": 7,
     "metadata": {},
     "output_type": "execute_result"
    },
    {
     "data": {
      "image/png": "[encoded data removed]",
      "text/plain": [
       "<Figure size 432x288 with 1 Axes>"
      ]
     },
     "metadata": {
      "needs_background": "light"
     },
     "output_type": "display_data"
    }
   ],
   "source": [
    "phyto_in_theta.count(xr.ALL_DIMS).plot()"
   ]
  },
  {
   "cell_type": "code",
   "execution_count": 8,
   "metadata": {},
   "outputs": [
    {
     "data": {
      "text/plain": [
       "[<matplotlib.lines.Line2D at 0x2b32d7cfe898>]"
      ]
     },
     "execution_count": 8,
     "metadata": {},
     "output_type": "execute_result"
    },
    {
     "data": {
      "image/png": "[encoded data removed]",
      "text/plain": [
       "<Figure size 432x288 with 1 Axes>"
      ]
     },
     "metadata": {
      "needs_background": "light"
     },
     "output_type": "display_data"
    }
   ],
   "source": [
    "phyto_in_theta.mean(xr.ALL_DIMS).plot()"
   ]
  }
 ],
 "metadata": {
  "kernelspec": {
   "display_name": "Python 3",
   "language": "python",
   "name": "python3"
  },
  "language_info": {
   "codemirror_mode": {
    "name": "ipython",
    "version": 3
   },
   "file_extension": ".py",
   "mimetype": "text/x-python",
   "name": "python",
   "nbconvert_exporter": "python",
   "pygments_lexer": "ipython3",
   "version": "3.7.3"
  }
 },
 "nbformat": 4,
 "nbformat_minor": 2
}
